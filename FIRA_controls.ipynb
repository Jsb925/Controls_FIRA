{
 "cells": [
  {
   "cell_type": "code",
   "execution_count": 149,
   "metadata": {},
   "outputs": [],
   "source": [
    "import numpy as np\n",
    "from scipy.interpolate import CubicSpline\n",
    "import matplotlib.pyplot as plt"
   ]
  },
  {
   "cell_type": "code",
   "execution_count": 150,
   "metadata": {},
   "outputs": [],
   "source": [
    "#Model Parameters\n",
    "t = 0.01"
   ]
  },
  {
   "cell_type": "code",
   "execution_count": 151,
   "metadata": {},
   "outputs": [],
   "source": [
    "#Vehicle Parameters\n",
    "m = 20\n",
    "lf = 0.25\n",
    "lr = 0.25\n",
    "b = 0.3\n",
    "Iz = m*((lf+lr)**2 + b**2)/12"
   ]
  },
  {
   "cell_type": "code",
   "execution_count": 152,
   "metadata": {},
   "outputs": [],
   "source": [
    "#Tyre parameters\n",
    "Bf = 9.242\n",
    "Br = 17.716\n",
    "Cf = 0.085\n",
    "Cr = 0.133\n",
    "Df = 134.585\n",
    "Dr = 159.919\n",
    "Cm1 = 20\n",
    "Cm2 = 6.92e-7\n",
    "Cd = 0"
   ]
  },
  {
   "cell_type": "code",
   "execution_count": 153,
   "metadata": {},
   "outputs": [],
   "source": [
    "#Tyre Forces\n",
    "def tyre_forces(vx,vy,w,delta,d):\n",
    "    af = -np.arctan((w*lf + vx)/vx) + delta\n",
    "    ar = np.arctan((w*lr - vy)/vx)\n",
    "    Ffy = Df*np.sin(Cf*np.arctan(Bf*af))\n",
    "    Fry = Dr*np.sin(Cr*np.arctan(Br*ar))\n",
    "    Frx = (Cm1 - Cm2*vx)*d - Cr - Cd*(vx**2)\n",
    "    return Ffy,Fry,Frx"
   ]
  },
  {
   "cell_type": "code",
   "execution_count": 154,
   "metadata": {},
   "outputs": [],
   "source": [
    "#Vehicle Dynamics\n",
    "def vehicle(xo,yo,phio,vxo,vyo,wo,delta,d):\n",
    "    Ffy,Fry,Frx = tyre_forces(vx,vy,delta,d)\n",
    "    x = xo + (vx*np.cos(phi) - vy*np.sin(phi))*t\n",
    "    y = yo + (vx*np.sin(phi) + vy*np.cos(phi))*t\n",
    "    phi = phio + w*t\n",
    "    vx = vxo + (Frx - Ffy*np.sin(delta) + m*vy*w)*t/m\n",
    "    vy = vyo + (Fry + Ffy*np.cos(delta) - m*vx*w)*t/m\n",
    "    w = wo + (Ffy*lf*np.cos(delta) - Fry*lr)*t/Iz"
   ]
  },
  {
   "cell_type": "code",
   "execution_count": 155,
   "metadata": {},
   "outputs": [],
   "source": [
    "#Reference Path:\n",
    "xref = np.linspace(0,np.pi/2)\n",
    "yref = np.sin(xref)\n",
    "path = [xref,yref]"
   ]
  },
  {
   "cell_type": "code",
   "execution_count": 156,
   "metadata": {},
   "outputs": [
    {
     "data": {
      "text/plain": [
       "[<matplotlib.lines.Line2D at 0x7ff421531280>]"
      ]
     },
     "execution_count": 156,
     "metadata": {},
     "output_type": "execute_result"
    },
    {
     "data": {
      "image/png": "[encoded data removed]",
      "text/plain": [
       "<Figure size 640x480 with 1 Axes>"
      ]
     },
     "metadata": {},
     "output_type": "display_data"
    }
   ],
   "source": [
    "plt.plot(path[0],path[1])"
   ]
  },
  {
   "cell_type": "code",
   "execution_count": 157,
   "metadata": {},
   "outputs": [],
   "source": [
    "spline = CubicSpline(path[0], path[1])\n",
    "def calculate_arc_lengths(x, y):\n",
    "        xp = np.linspace(0,path[0][-1],1000)\n",
    "        yp = spline(xp)\n",
    "        dydx = spline(xp,1)\n",
    "        arc_lengths = [0]\n",
    "        for i in range(1, len(xp)):\n",
    "            arc_lengths.append(arc_lengths[i - 1] + np.sqrt((yp[i]-yp[i-1])**2 + (xp[i]-xp[i-1])**2))\n",
    "        return arc_lengths, xp, yp, dydx    \n",
    "arc_lengths,xp,yp,dydx = calculate_arc_lengths(path[0], path[1])\n",
    "def data(theta):\n",
    "    index = 0\n",
    "    for i in range(len(arc_lengths)):\n",
    "        if(abs(arc_lengths[i]-theta)>0.01):\n",
    "            continue\n",
    "        else:\n",
    "            index = i\n",
    "            break\n",
    "    return xp[i],yp[i],dydx[i]"
   ]
  }
 ],
 "metadata": {
  "kernelspec": {
   "display_name": "base",
   "language": "python",
   "name": "python3"
  },
  "language_info": {
   "codemirror_mode": {
    "name": "ipython",
    "version": 3
   },
   "file_extension": ".py",
   "mimetype": "text/x-python",
   "name": "python",
   "nbconvert_exporter": "python",
   "pygments_lexer": "ipython3",
   "version": "3.9.13"
  },
  "orig_nbformat": 4
 },
 "nbformat": 4,
 "nbformat_minor": 2
}
